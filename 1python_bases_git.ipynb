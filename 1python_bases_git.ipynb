{
 "cells": [
  {
   "cell_type": "markdown",
   "id": "81c09781-4634-4232-852e-84faccbd16dc",
   "metadata": {},
   "source": [
    "# От PlayStation до Wii: эволюция игровой индустрии в начале XXI века"
   ]
  },
  {
   "cell_type": "markdown",
   "id": "2d57b99e-e6e2-4420-b421-830b3a17ea9d",
   "metadata": {},
   "source": [
    "## Цели и задачи проекта:\n",
    "\n",
    "Цель проекта — провести анализ данных о продажах RPG видеоигр за период с 2000 по 2013 год, чтобы выявить ключевые тенденции и особенности, влияющие на успешность игр. В ходе проекта будет проведена очистка и подготовка данных, а также изучение продаж игр по жанрам, платформам и регионам. Мы также добавим новые переменные, такие как категории оценок, для более детального анализа.\n",
    "\n",
    "Задачи проекта включают в себя обработку пропусков и дубликатов, создание новых столбцов для улучшения анализа, а также исследование зависимости между характеристиками игр и их успешностью на разных платформах и в различных регионах. На основе результатов анализа будет сделан вывод, который поможет лучше понять, какие игры и платформы имели наибольший успех в начале XXI века."
   ]
  },
  {
   "cell_type": "markdown",
   "id": "0b5ae788-2aa1-44d9-b073-34d33f584352",
   "metadata": {},
   "source": [
    "## План работы:\n",
    "\n",
    "1. Знакомство с данными:\n",
    "* Знакомство с данными, выгрузка информации о датасете\n",
    "* Описание данных\n",
    "* Вывод о датафрейме\n",
    "\n",
    "2. Предобработка данных:\n",
    "* Очистка и приведение данных к нужным типам (например, преобразование строковых значений в числовые).\n",
    "* Обработка пропущенных данных и дубликатов.\n",
    "* Переименование столбцов для удобства дальнейшего анализа.\n",
    "* Отфильтровать данные по заданному заказчиком периоду\n",
    "  \n",
    "3. Анализ данных:\n",
    "* Исследование взаимосвязей между переменными\n",
    "* Категоризация данных и изучение их в срезе по оценкам критиков и игроков\n",
    "* Выявление топ-7 популярных платформ в начале XXI века"
   ]
  },
  {
   "cell_type": "markdown",
   "id": "57409ca0-54b8-4f1a-971d-cbb1e4bf5516",
   "metadata": {},
   "source": [
    "## Описание данных\n",
    "Данные `new_games.csv` содержат информацию о продажах игр разных жанров и платформ, а также пользовательские и экспертные оценки игр:\n",
    "\n",
    "* `Name` — название игры.\n",
    "* `Platform` — название платформы.\n",
    "* `Year of Release` — год выпуска игры.\n",
    "* `Genre` — жанр игры.\n",
    "* `NA sales` — продажи в Северной Америке (в миллионах проданных копий).\n",
    "* `EU sales` — продажи в Европе (в миллионах проданных копий).\n",
    "* `JP sales` — продажи в Японии (в миллионах проданных копий).\n",
    "* `Other sales` — продажи в других странах (в миллионах проданных копий).\n",
    "* `Critic Score` — оценка критиков (от 0 до 100).\n",
    "* `User Score` — оценка пользователей (от 0 до 10).\n",
    "* `Rating` — рейтинг организации ESRB (англ. Entertainment Software Rating Board). Эта ассоциация определяет рейтинг компьютерных игр и присваивает им подходящую возрастную категорию."
   ]
  },
  {
   "cell_type": "code",
   "execution_count": 5,
   "id": "36b6c0aa-aa7e-41d9-b8f6-736a2257eb33",
   "metadata": {},
   "outputs": [],
   "source": [
    "# Импортируем библиотеку pandas\n",
    "import pandas as pd"
   ]
  },
  {
   "cell_type": "code",
   "execution_count": 6,
   "id": "bd8be6e8-5055-41c8-a6a7-72259c85a8e4",
   "metadata": {},
   "outputs": [],
   "source": [
    "# Выгружаем данные из датасета new_games.csv в датафрейм games\n",
    "games = pd.read_csv('https://code.s3.yandex.net/datasets/new_games.csv')"
   ]
  },
  {
   "cell_type": "code",
   "execution_count": 7,
   "id": "bfe788a5-a652-4545-98e7-41f8dbd60100",
   "metadata": {},
   "outputs": [
    {
     "data": {
      "text/html": [
       "<div>\n",
       "<style scoped>\n",
       "    .dataframe tbody tr th:only-of-type {\n",
       "        vertical-align: middle;\n",
       "    }\n",
       "\n",
       "    .dataframe tbody tr th {\n",
       "        vertical-align: top;\n",
       "    }\n",
       "\n",
       "    .dataframe thead th {\n",
       "        text-align: right;\n",
       "    }\n",
       "</style>\n",
       "<table border=\"1\" class=\"dataframe\">\n",
       "  <thead>\n",
       "    <tr style=\"text-align: right;\">\n",
       "      <th></th>\n",
       "      <th>Name</th>\n",
       "      <th>Platform</th>\n",
       "      <th>Year of Release</th>\n",
       "      <th>Genre</th>\n",
       "      <th>NA sales</th>\n",
       "      <th>EU sales</th>\n",
       "      <th>JP sales</th>\n",
       "      <th>Other sales</th>\n",
       "      <th>Critic Score</th>\n",
       "      <th>User Score</th>\n",
       "      <th>Rating</th>\n",
       "    </tr>\n",
       "  </thead>\n",
       "  <tbody>\n",
       "    <tr>\n",
       "      <th>0</th>\n",
       "      <td>Wii Sports</td>\n",
       "      <td>Wii</td>\n",
       "      <td>2006.0</td>\n",
       "      <td>Sports</td>\n",
       "      <td>41.36</td>\n",
       "      <td>28.96</td>\n",
       "      <td>3.77</td>\n",
       "      <td>8.45</td>\n",
       "      <td>76.0</td>\n",
       "      <td>8</td>\n",
       "      <td>E</td>\n",
       "    </tr>\n",
       "    <tr>\n",
       "      <th>1</th>\n",
       "      <td>Super Mario Bros.</td>\n",
       "      <td>NES</td>\n",
       "      <td>1985.0</td>\n",
       "      <td>Platform</td>\n",
       "      <td>29.08</td>\n",
       "      <td>3.58</td>\n",
       "      <td>6.81</td>\n",
       "      <td>0.77</td>\n",
       "      <td>NaN</td>\n",
       "      <td>NaN</td>\n",
       "      <td>NaN</td>\n",
       "    </tr>\n",
       "    <tr>\n",
       "      <th>2</th>\n",
       "      <td>Mario Kart Wii</td>\n",
       "      <td>Wii</td>\n",
       "      <td>2008.0</td>\n",
       "      <td>Racing</td>\n",
       "      <td>15.68</td>\n",
       "      <td>12.76</td>\n",
       "      <td>3.79</td>\n",
       "      <td>3.29</td>\n",
       "      <td>82.0</td>\n",
       "      <td>8.3</td>\n",
       "      <td>E</td>\n",
       "    </tr>\n",
       "    <tr>\n",
       "      <th>3</th>\n",
       "      <td>Wii Sports Resort</td>\n",
       "      <td>Wii</td>\n",
       "      <td>2009.0</td>\n",
       "      <td>Sports</td>\n",
       "      <td>15.61</td>\n",
       "      <td>10.93</td>\n",
       "      <td>3.28</td>\n",
       "      <td>2.95</td>\n",
       "      <td>80.0</td>\n",
       "      <td>8</td>\n",
       "      <td>E</td>\n",
       "    </tr>\n",
       "    <tr>\n",
       "      <th>4</th>\n",
       "      <td>Pokemon Red/Pokemon Blue</td>\n",
       "      <td>GB</td>\n",
       "      <td>1996.0</td>\n",
       "      <td>Role-Playing</td>\n",
       "      <td>11.27</td>\n",
       "      <td>8.89</td>\n",
       "      <td>10.22</td>\n",
       "      <td>1.00</td>\n",
       "      <td>NaN</td>\n",
       "      <td>NaN</td>\n",
       "      <td>NaN</td>\n",
       "    </tr>\n",
       "  </tbody>\n",
       "</table>\n",
       "</div>"
      ],
      "text/plain": [
       "                       Name Platform  Year of Release         Genre  NA sales  \\\n",
       "0                Wii Sports      Wii           2006.0        Sports     41.36   \n",
       "1         Super Mario Bros.      NES           1985.0      Platform     29.08   \n",
       "2            Mario Kart Wii      Wii           2008.0        Racing     15.68   \n",
       "3         Wii Sports Resort      Wii           2009.0        Sports     15.61   \n",
       "4  Pokemon Red/Pokemon Blue       GB           1996.0  Role-Playing     11.27   \n",
       "\n",
       "  EU sales JP sales  Other sales  Critic Score User Score Rating  \n",
       "0    28.96     3.77         8.45          76.0          8      E  \n",
       "1     3.58     6.81         0.77           NaN        NaN    NaN  \n",
       "2    12.76     3.79         3.29          82.0        8.3      E  \n",
       "3    10.93     3.28         2.95          80.0          8      E  \n",
       "4     8.89    10.22         1.00           NaN        NaN    NaN  "
      ]
     },
     "execution_count": 7,
     "metadata": {},
     "output_type": "execute_result"
    }
   ],
   "source": [
    "# Получаем первые 5 строк\n",
    "games.head()"
   ]
  },
  {
   "cell_type": "code",
   "execution_count": 8,
   "id": "5d88428e-2c25-4d40-ae6d-c3bd2dbcb5ba",
   "metadata": {},
   "outputs": [
    {
     "name": "stdout",
     "output_type": "stream",
     "text": [
      "<class 'pandas.core.frame.DataFrame'>\n",
      "RangeIndex: 16956 entries, 0 to 16955\n",
      "Data columns (total 11 columns):\n",
      " #   Column           Non-Null Count  Dtype  \n",
      "---  ------           --------------  -----  \n",
      " 0   Name             16954 non-null  object \n",
      " 1   Platform         16956 non-null  object \n",
      " 2   Year of Release  16681 non-null  float64\n",
      " 3   Genre            16954 non-null  object \n",
      " 4   NA sales         16956 non-null  float64\n",
      " 5   EU sales         16956 non-null  object \n",
      " 6   JP sales         16956 non-null  object \n",
      " 7   Other sales      16956 non-null  float64\n",
      " 8   Critic Score     8242 non-null   float64\n",
      " 9   User Score       10152 non-null  object \n",
      " 10  Rating           10085 non-null  object \n",
      "dtypes: float64(4), object(7)\n",
      "memory usage: 1.4+ MB\n"
     ]
    }
   ],
   "source": [
    "# Получаем информацию о датафрейме\n",
    "games.info() "
   ]
  },
  {
   "cell_type": "markdown",
   "id": "18cb58d8-5a31-4a8a-8110-980429af0441",
   "metadata": {},
   "source": [
    "#### Выводы о датафрейме\n",
    "\n",
    "Полученные данные содержат информацию о 16956 записях, каждая из которых относится к одной игре, и охватывают продажи игр по регионам, а также оценки критиков и пользователей. Большинство столбцов имеют правильные типы данных, однако есть несколько моментов, которые требуют внимания. Например, в столбцах с продажами по регионам (EU sales, JP sales) данные представлены в виде строк (object), что является ошибочным типом данных, так как эти значения должны быть числовыми для корректного анализа. В некоторых столбцах, таких как \"Year of Release\", \"Critic Score\", \"User Score\" и \"Rating\", встречаются пропущенные значения, что также потребует корректной обработки.\n",
    "\n",
    "Названия столбцов в целом соответствуют содержимому, но некоторые из них могут быть записаны с пробелами или некорректными символами, что стоит исправить для удобства работы с данными. Столбец \"User Score\" также представлен в виде строк, хотя, скорее всего, он должен содержать числовые значения, что также необходимо будет исправить. Пропуски в данных требуют внимательной обработки, и, вероятно, потребуется замена некоторых значений на оптимальные индикаторы или их заполнение на основе статистики."
   ]
  },
  {
   "cell_type": "markdown",
   "id": "1e758b8d-7fd9-4c90-8917-6573cde5916c",
   "metadata": {},
   "source": [
    "## Проверка ошибок в данных и их предобработка"
   ]
  },
  {
   "cell_type": "markdown",
   "id": "23618fae-fcf9-41ff-a477-bc759d2869a7",
   "metadata": {},
   "source": [
    "Для начала разберемся с названиями столбцов для удобства работы в дальнейшем:"
   ]
  },
  {
   "cell_type": "code",
   "execution_count": 12,
   "id": "02ac048f-5f3d-46de-b0ce-26843a6b6405",
   "metadata": {},
   "outputs": [],
   "source": [
    "# Приводим название столбцов к нижнему регистру\n",
    "games.columns = games.columns.str.lower()"
   ]
  },
  {
   "cell_type": "code",
   "execution_count": 13,
   "id": "6b0c9da0-02c1-4069-beb5-a17e0be744e7",
   "metadata": {},
   "outputs": [
    {
     "data": {
      "text/plain": [
       "Index(['name', 'platform', 'year_of_release', 'genre', 'na_sales', 'eu_sales',\n",
       "       'jp_sales', 'other_sales', 'critic_score', 'user_score', 'rating'],\n",
       "      dtype='object')"
      ]
     },
     "execution_count": 13,
     "metadata": {},
     "output_type": "execute_result"
    }
   ],
   "source": [
    "# Приводим нужные названия к snake case для дальнейшего удобства при работе с датафреймом\n",
    "games = games.rename(columns = {\n",
    "    'year of release':'year_of_release',\n",
    "    'na sales':'na_sales',\n",
    "    'eu sales':'eu_sales',\n",
    "    'jp sales':'jp_sales',\n",
    "    'other sales':'other_sales',\n",
    "    'critic score':'critic_score',\n",
    "    'user score':'user_score'\n",
    "})\n",
    "games.columns"
   ]
  },
  {
   "cell_type": "code",
   "execution_count": 14,
   "id": "660185f8-6816-45b9-a5f3-2d6252e2ba2f",
   "metadata": {},
   "outputs": [
    {
     "data": {
      "text/plain": [
       "Index(['name', 'platform', 'year_of_release', 'genre', 'na_sales', 'eu_sales',\n",
       "       'jp_sales', 'other_sales', 'critic_score', 'user_score', 'rating'],\n",
       "      dtype='object')"
      ]
     },
     "execution_count": 14,
     "metadata": {},
     "output_type": "execute_result"
    }
   ],
   "source": [
    "# Вот все текущие названия столбцов:\n",
    "games.columns"
   ]
  },
  {
   "cell_type": "markdown",
   "id": "85e97463-4b70-43f6-9e90-6ee39aa146e5",
   "metadata": {},
   "source": [
    "#### Типы данных"
   ]
  },
  {
   "cell_type": "markdown",
   "id": "53cfa656-1c12-4eee-9e23-fd63d240b804",
   "metadata": {},
   "source": [
    "Из метода `games.info()` мы звметили что не все данные хранятся в типах данных, нужных нам для работы"
   ]
  },
  {
   "cell_type": "markdown",
   "id": "233aed42-166f-4e47-9801-e3ad1883b2f0",
   "metadata": {},
   "source": [
    "Поскольку ожидается что в столбцах `year_of_release` `eu_sales` `jp_sales` и `user_score` будет число, нужно привести их к нужным типам данных"
   ]
  },
  {
   "cell_type": "code",
   "execution_count": 18,
   "id": "6ebdcd85-0e5d-4537-a80a-99975ccec108",
   "metadata": {},
   "outputs": [
    {
     "data": {
      "text/plain": [
       "name                object\n",
       "platform            object\n",
       "year_of_release    float64\n",
       "genre               object\n",
       "na_sales           float64\n",
       "eu_sales           float64\n",
       "jp_sales           float64\n",
       "other_sales        float64\n",
       "critic_score       float64\n",
       "user_score         float64\n",
       "rating              object\n",
       "dtype: object"
      ]
     },
     "execution_count": 18,
     "metadata": {},
     "output_type": "execute_result"
    }
   ],
   "source": [
    "# Приводим столбцы к нужным типам данных\n",
    "conv_columns = ['year_of_release', 'eu_sales', 'jp_sales', 'user_score']\n",
    "games[conv_columns] = games[conv_columns].apply(pd.to_numeric, errors='coerce')\n",
    "\n",
    "# Сразу проверяем тип данных\n",
    "games.dtypes"
   ]
  },
  {
   "cell_type": "markdown",
   "id": "b634b87f-495c-4db9-aeca-75f945867f41",
   "metadata": {},
   "source": [
    "#### Наличие пропусков в данных"
   ]
  },
  {
   "cell_type": "code",
   "execution_count": 20,
   "id": "b60de3a5-ba96-434a-9e4d-1aa64bb11cb3",
   "metadata": {},
   "outputs": [
    {
     "data": {
      "text/html": [
       "<div>\n",
       "<style scoped>\n",
       "    .dataframe tbody tr th:only-of-type {\n",
       "        vertical-align: middle;\n",
       "    }\n",
       "\n",
       "    .dataframe tbody tr th {\n",
       "        vertical-align: top;\n",
       "    }\n",
       "\n",
       "    .dataframe thead th {\n",
       "        text-align: right;\n",
       "    }\n",
       "</style>\n",
       "<table border=\"1\" class=\"dataframe\">\n",
       "  <thead>\n",
       "    <tr style=\"text-align: right;\">\n",
       "      <th></th>\n",
       "      <th>Пропуски (абс.)</th>\n",
       "      <th>Пропуски (%)</th>\n",
       "    </tr>\n",
       "  </thead>\n",
       "  <tbody>\n",
       "    <tr>\n",
       "      <th>user_score</th>\n",
       "      <td>9268</td>\n",
       "      <td>54.659118</td>\n",
       "    </tr>\n",
       "    <tr>\n",
       "      <th>critic_score</th>\n",
       "      <td>8714</td>\n",
       "      <td>51.391838</td>\n",
       "    </tr>\n",
       "    <tr>\n",
       "      <th>rating</th>\n",
       "      <td>6871</td>\n",
       "      <td>40.522529</td>\n",
       "    </tr>\n",
       "    <tr>\n",
       "      <th>year_of_release</th>\n",
       "      <td>275</td>\n",
       "      <td>1.621845</td>\n",
       "    </tr>\n",
       "    <tr>\n",
       "      <th>eu_sales</th>\n",
       "      <td>6</td>\n",
       "      <td>0.035386</td>\n",
       "    </tr>\n",
       "    <tr>\n",
       "      <th>jp_sales</th>\n",
       "      <td>4</td>\n",
       "      <td>0.023590</td>\n",
       "    </tr>\n",
       "    <tr>\n",
       "      <th>name</th>\n",
       "      <td>2</td>\n",
       "      <td>0.011795</td>\n",
       "    </tr>\n",
       "    <tr>\n",
       "      <th>genre</th>\n",
       "      <td>2</td>\n",
       "      <td>0.011795</td>\n",
       "    </tr>\n",
       "    <tr>\n",
       "      <th>platform</th>\n",
       "      <td>0</td>\n",
       "      <td>0.000000</td>\n",
       "    </tr>\n",
       "    <tr>\n",
       "      <th>na_sales</th>\n",
       "      <td>0</td>\n",
       "      <td>0.000000</td>\n",
       "    </tr>\n",
       "    <tr>\n",
       "      <th>other_sales</th>\n",
       "      <td>0</td>\n",
       "      <td>0.000000</td>\n",
       "    </tr>\n",
       "  </tbody>\n",
       "</table>\n",
       "</div>"
      ],
      "text/plain": [
       "                 Пропуски (абс.)  Пропуски (%)\n",
       "user_score                  9268     54.659118\n",
       "critic_score                8714     51.391838\n",
       "rating                      6871     40.522529\n",
       "year_of_release              275      1.621845\n",
       "eu_sales                       6      0.035386\n",
       "jp_sales                       4      0.023590\n",
       "name                           2      0.011795\n",
       "genre                          2      0.011795\n",
       "platform                       0      0.000000\n",
       "na_sales                       0      0.000000\n",
       "other_sales                    0      0.000000"
      ]
     },
     "execution_count": 20,
     "metadata": {},
     "output_type": "execute_result"
    }
   ],
   "source": [
    "# Вычисляем абслютное число пропусков и их %\n",
    "missing_data = games.isna().sum()\n",
    "missing_share = games.isna().sum() / len(games) * 100\n",
    "missing_all = pd.DataFrame({f'Пропуски (абс.)': missing_data, f'Пропуски (%)': missing_share})\n",
    "missing_all = missing_all.sort_values(by='Пропуски (абс.)', ascending=False)\n",
    "missing_all"
   ]
  },
  {
   "cell_type": "markdown",
   "id": "1bdf1a2a-1ad5-4c9d-859b-6d14b42dcf13",
   "metadata": {},
   "source": [
    "* `name` и `genre` - 2 пропущенных значения (0.01%)\n",
    "* `year_of_release` - 275 пропусков (1.6%)\n",
    "* `eu_sales` и `jp_sales` - менее 0.1%\n",
    "* `critic_score` и `user_score` - более 50% пропусков.\n",
    "* `rating` - 41% пропусков."
   ]
  },
  {
   "cell_type": "markdown",
   "id": "4e42e864-85bd-422d-839e-f55f876aa8f1",
   "metadata": {},
   "source": [
    "Исходя из данных, самое большое количество пропусков находятся в колонках с рейтингами от критиков и пользователей. Можно предположить что либо некоторые предоставленные игры не получили оценку потому что игра вышла недавно и оценки от игроков и критиков не поставлены или данные пока не собраны\n",
    "Также может быть что некоторые игры малоизвестны и просто не имеют оценку от игроков и критиков.\n",
    "**Такие данные можно заменить на -1 чтобы не искажать среднее значение и данные с пропусками были легко отличимыми**\n",
    "\n",
    "Много игр с отсутствием рейтига, что тоже может говорить о том что игра новая и не проходила рейтинговую сертификацию. \n",
    "**Эти пропуски тоже меняем на -1 с сохранением строкового типа данных**\n",
    "\n",
    "Пропуски связанные с количеством продаж по регионам вполне объяснимы - игра могла не продаваться в том или ином регионе. \n",
    "**Эти данные будем менять на среднее значение в зависимости от названия платформы и года выхода игры.**\n",
    "\n",
    "Пропуски в столбце с годом выходы игры и жанром малообъяснимы, но всего таких записей менее 2% и поскольку в будущем нам очень важен срез по годам и жанрам и дальнейший анализ будет строится по отфильтрованным по этим столбцам данным. \n",
    "**Лучшим решением будет удалить эти записи и провести анализ по оставшимся играм.**\n"
   ]
  },
  {
   "cell_type": "code",
   "execution_count": 23,
   "id": "0b89de17-d4c5-4e7e-94aa-bf527ffd14e5",
   "metadata": {},
   "outputs": [
    {
     "name": "stdout",
     "output_type": "stream",
     "text": [
      "<class 'pandas.core.frame.DataFrame'>\n",
      "Index: 16679 entries, 0 to 16955\n",
      "Data columns (total 11 columns):\n",
      " #   Column           Non-Null Count  Dtype  \n",
      "---  ------           --------------  -----  \n",
      " 0   name             16679 non-null  object \n",
      " 1   platform         16679 non-null  object \n",
      " 2   year_of_release  16679 non-null  float64\n",
      " 3   genre            16679 non-null  object \n",
      " 4   na_sales         16679 non-null  float64\n",
      " 5   eu_sales         16679 non-null  float64\n",
      " 6   jp_sales         16679 non-null  float64\n",
      " 7   other_sales      16679 non-null  float64\n",
      " 8   critic_score     16679 non-null  float64\n",
      " 9   user_score       16679 non-null  float64\n",
      " 10  rating           16679 non-null  object \n",
      "dtypes: float64(7), object(4)\n",
      "memory usage: 1.5+ MB\n"
     ]
    }
   ],
   "source": [
    "# Меняем значение в рейтингах на -1\n",
    "change_from = ['critic_score', 'user_score']\n",
    "games[change_from] = games[change_from].fillna(-1)\n",
    "games['rating'] = games['rating'].fillna('-1')\n",
    "\n",
    "# Заменим значения в продажах по регионам на среднее по платформе и году выхода\n",
    "def mean_eu_sales(row):\n",
    "    if pd.isna(row['eu_sales']):\n",
    "        group = games[(games['platform'] == row['platform']) & \n",
    "                      (games['year_of_release'] == row['year_of_release'])]\n",
    "        return group['eu_sales'].mean()\n",
    "    else:\n",
    "        return row['eu_sales']\n",
    "\n",
    "def mean_jp_sales(row):\n",
    "    if pd.isna(row['jp_sales']):\n",
    "        group = games[(games['platform'] == row['platform']) & \n",
    "                      (games['year_of_release'] == row['year_of_release'])]\n",
    "        return group['jp_sales'].mean()\n",
    "    else:\n",
    "        return row['jp_sales']\n",
    "\n",
    "games['eu_sales'] = games.apply(mean_eu_sales, axis=1)\n",
    "games['jp_sales'] = games.apply(mean_jp_sales, axis=1)\n",
    "\n",
    "# Удаляем пропуски в столбцах о жанре и дате релиза\n",
    "games = games.dropna(subset=['year_of_release', 'genre'])\n",
    "\n",
    "games.info()"
   ]
  },
  {
   "cell_type": "markdown",
   "id": "06f7849f-f5e6-4611-bd59-3b3509d8b963",
   "metadata": {},
   "source": [
    "Теперь пропусков нет и можно работать с датасетом"
   ]
  },
  {
   "cell_type": "markdown",
   "id": "015d5574-bd1f-43e8-b5af-590ea9f5306c",
   "metadata": {},
   "source": [
    "#### Неявные дубликаты в данных:"
   ]
  },
  {
   "cell_type": "markdown",
   "id": "cb47a977-0261-450d-b55e-a8894f922eb2",
   "metadata": {},
   "source": [
    "Давайте рассмотрим уникальные записи в столбцах для выявления неявных дубликатов"
   ]
  },
  {
   "cell_type": "code",
   "execution_count": 27,
   "id": "4e4f0d2f-430d-45d1-935d-f08d8be77188",
   "metadata": {},
   "outputs": [
    {
     "data": {
      "text/plain": [
       "(array(['Sports', 'Platform', 'Racing', 'Role-Playing', 'Puzzle', 'Misc',\n",
       "        'Shooter', 'Simulation', 'Action', 'Fighting', 'Adventure',\n",
       "        'Strategy', 'MISC', 'ROLE-PLAYING', 'RACING', 'ACTION', 'SHOOTER',\n",
       "        'FIGHTING', 'SPORTS', 'PLATFORM', 'ADVENTURE', 'SIMULATION',\n",
       "        'PUZZLE', 'STRATEGY'], dtype=object),\n",
       " array(['Wii', 'NES', 'GB', 'DS', 'X360', 'PS3', 'PS2', 'SNES', 'GBA',\n",
       "        'PS4', '3DS', 'N64', 'PS', 'XB', 'PC', '2600', 'PSP', 'XOne',\n",
       "        'WiiU', 'GC', 'GEN', 'DC', 'PSV', 'SAT', 'SCD', 'WS', 'NG', 'TG16',\n",
       "        '3DO', 'GG', 'PCFX'], dtype=object),\n",
       " array(['E', '-1', 'M', 'T', 'E10+', 'K-A', 'AO', 'EC', 'RP'], dtype=object),\n",
       " array([2006., 1985., 2008., 2009., 1996., 1989., 1984., 2005., 1999.,\n",
       "        2007., 2010., 2013., 2004., 1990., 1988., 2002., 2001., 2011.,\n",
       "        1998., 2015., 2012., 2014., 1992., 1997., 1993., 1994., 1982.,\n",
       "        2016., 2003., 1986., 2000., 1995., 1991., 1981., 1987., 1980.,\n",
       "        1983.]))"
      ]
     },
     "execution_count": 27,
     "metadata": {},
     "output_type": "execute_result"
    }
   ],
   "source": [
    "# Выявляем неявные дубликаты связаные с опечатками или разным способом написания\n",
    "unique_genre = games['genre'].unique()\n",
    "unique_platform = games['platform'].unique()\n",
    "unique_rating = games['rating'].unique()\n",
    "unique_year_of_release = games['year_of_release'].unique() \n",
    "unique_genre, unique_platform, unique_rating, unique_year_of_release"
   ]
  },
  {
   "cell_type": "markdown",
   "id": "3689222d-dc6d-4ab2-971f-374e2e6d87e5",
   "metadata": {},
   "source": [
    "Мы можем заметить что столбец с жанром содержит неявные дубликаты связанные с разным регистром, это надо исправить"
   ]
  },
  {
   "cell_type": "code",
   "execution_count": 29,
   "id": "165508c2-d00f-4956-828e-ae98080fca35",
   "metadata": {},
   "outputs": [
    {
     "data": {
      "text/plain": [
       "array(['sports', 'platform', 'racing', 'role-playing', 'puzzle', 'misc',\n",
       "       'shooter', 'simulation', 'action', 'fighting', 'adventure',\n",
       "       'strategy'], dtype=object)"
      ]
     },
     "execution_count": 29,
     "metadata": {},
     "output_type": "execute_result"
    }
   ],
   "source": [
    "# Приводим жанры и названия игр к нижнему регистру\n",
    "games[['name', 'genre']] = games[['name', 'genre']].apply(lambda x: x.str.lower())\n",
    "unique_genre = games['genre'].unique()\n",
    "unique_genre"
   ]
  },
  {
   "cell_type": "markdown",
   "id": "c662ee8a-0f3e-4350-a25c-542ff0c8d665",
   "metadata": {},
   "source": [
    "После обработки у нас осталось 12 жанров из 24"
   ]
  },
  {
   "cell_type": "markdown",
   "id": "e1a654ff-85dc-4824-b0fc-6687020bafdb",
   "metadata": {},
   "source": [
    "#### Явные дубликаты в данных"
   ]
  },
  {
   "cell_type": "markdown",
   "id": "6658c82e-01b2-413b-97e6-7cb8326b9592",
   "metadata": {},
   "source": [
    "Давайте посмотрим, сколько явных дубликатов можно найти в нашем датафрейме:"
   ]
  },
  {
   "cell_type": "code",
   "execution_count": 33,
   "id": "795cb031-6fc3-46a3-9b9d-9bec9c3a2058",
   "metadata": {},
   "outputs": [
    {
     "data": {
      "text/plain": [
       "235"
      ]
     },
     "execution_count": 33,
     "metadata": {},
     "output_type": "execute_result"
    }
   ],
   "source": [
    "# Выводим количество дубликатов\n",
    "duplicate_values = games.duplicated()\n",
    "duplicate_values.sum()"
   ]
  },
  {
   "cell_type": "markdown",
   "id": "e27e569d-aed3-475c-973b-6a5227364137",
   "metadata": {},
   "source": [
    "235 Явных дубликатов - эти данные будут мешать нашему анализу и их нужно удалить"
   ]
  },
  {
   "cell_type": "code",
   "execution_count": 35,
   "id": "db1ca3d1-5c0e-4599-a807-767928bbddde",
   "metadata": {},
   "outputs": [],
   "source": [
    "# Удаляем явные дубликаты\n",
    "games = games.drop_duplicates()"
   ]
  },
  {
   "cell_type": "code",
   "execution_count": 36,
   "id": "1952afc7-d62b-49fc-83f5-8829e6a4d639",
   "metadata": {},
   "outputs": [
    {
     "data": {
      "text/plain": [
       "0"
      ]
     },
     "execution_count": 36,
     "metadata": {},
     "output_type": "execute_result"
    }
   ],
   "source": [
    "# Проверим\n",
    "duplicate_values = games.duplicated()\n",
    "duplicate_values.sum()"
   ]
  },
  {
   "cell_type": "markdown",
   "id": "7f7eb45c-ceb6-4f25-81bf-4447d0f13541",
   "metadata": {},
   "source": [
    "Всего было выявлено и удалено 235 явных дубликатов. \n",
    "Также мы выявили 12 повторяющихся жанров, но в разном регистре. Эти данные были приведены к одному виду. "
   ]
  },
  {
   "cell_type": "markdown",
   "id": "9bb4d465-462b-4239-8264-d3652c519148",
   "metadata": {},
   "source": [
    "#### Количество удалённых строк в абсолютном и относительном значениях:"
   ]
  },
  {
   "cell_type": "markdown",
   "id": "2cd01d7b-1251-47bc-b584-088c6e13aa79",
   "metadata": {},
   "source": [
    "И так, в начале у нас было 16956 записей, сейчас информация о нашем датафрейме выглядит так:"
   ]
  },
  {
   "cell_type": "code",
   "execution_count": 40,
   "id": "74d2dbe2-943f-4001-ad60-0432a19d0d91",
   "metadata": {},
   "outputs": [
    {
     "name": "stdout",
     "output_type": "stream",
     "text": [
      "<class 'pandas.core.frame.DataFrame'>\n",
      "Index: 16444 entries, 0 to 16955\n",
      "Data columns (total 11 columns):\n",
      " #   Column           Non-Null Count  Dtype  \n",
      "---  ------           --------------  -----  \n",
      " 0   name             16444 non-null  object \n",
      " 1   platform         16444 non-null  object \n",
      " 2   year_of_release  16444 non-null  float64\n",
      " 3   genre            16444 non-null  object \n",
      " 4   na_sales         16444 non-null  float64\n",
      " 5   eu_sales         16444 non-null  float64\n",
      " 6   jp_sales         16444 non-null  float64\n",
      " 7   other_sales      16444 non-null  float64\n",
      " 8   critic_score     16444 non-null  float64\n",
      " 9   user_score       16444 non-null  float64\n",
      " 10  rating           16444 non-null  object \n",
      "dtypes: float64(7), object(4)\n",
      "memory usage: 1.5+ MB\n"
     ]
    }
   ],
   "source": [
    "games.info()"
   ]
  },
  {
   "cell_type": "code",
   "execution_count": 41,
   "id": "dd3c7fca-e397-4e31-8a9a-2b2627198a37",
   "metadata": {},
   "outputs": [
    {
     "data": {
      "text/plain": [
       "'Было удалено 512 строк (3.02% от общего числа строк)'"
      ]
     },
     "execution_count": 41,
     "metadata": {},
     "output_type": "execute_result"
    }
   ],
   "source": [
    "deleted_rows = 16956 - 16444\n",
    "deleted_rows_share = deleted_rows / 16956 *100\n",
    "f'Было удалено {deleted_rows} строк ({round(deleted_rows_share, 2)}% от общего числа строк)'"
   ]
  },
  {
   "cell_type": "markdown",
   "id": "494d904b-a8f2-47fb-8334-01ef072c546b",
   "metadata": {},
   "source": [
    "### Промежуточный вывод после обработки данных"
   ]
  },
  {
   "cell_type": "markdown",
   "id": "b03b3c5a-8e6e-4b8d-9a6b-d9119c0b2798",
   "metadata": {},
   "source": [
    "\n",
    "После проведения предобработки данных, были выполнены следующие шаги: удаление дубликатов, обработка пропущенных значений, а также приведение некоторых столбцов к нужным типам данных. В ходе работы с данными были удалены строки с некорректными или отсутствующими значениями в критичных столбцах, что позволило улучшить качество и точность анализа.\n",
    "\n",
    "В результате очистки данных количество строк в датафрейме было снижено на определённое количество, что составило примерно 3.02% от первоначального объёма. Теперь данные готовы для дальнейшего анализа и построения модели, что позволит более точно выявить закономерности и зависимости, которые мы будем изучать в рамках текущего проекта."
   ]
  },
  {
   "cell_type": "markdown",
   "id": "7b8352a7-6949-45a7-acbf-39784c3913ae",
   "metadata": {},
   "source": [
    "## Фильтрация данных\n"
   ]
  },
  {
   "cell_type": "markdown",
   "id": "d9e49091-6720-4223-8ce8-bde19bf360c0",
   "metadata": {},
   "source": [
    "Для анализа нам необходимо отобрать данные за период с 2000 по 2013 год включительно. Также в условии сказано что акцент нужно сделать на играх жанра RPG — так называют компьютерные ролевые игры, в которых игроки управляют персонажами.  \n",
    "\n",
    "Создаем  новый датафрейм с нужным срезом данных по году выпуска и жанру:"
   ]
  },
  {
   "cell_type": "code",
   "execution_count": 46,
   "id": "f501169e-2a7f-454c-86b5-63e11ced7556",
   "metadata": {},
   "outputs": [
    {
     "name": "stdout",
     "output_type": "stream",
     "text": [
      "<class 'pandas.core.frame.DataFrame'>\n",
      "Index: 12781 entries, 0 to 16954\n",
      "Data columns (total 11 columns):\n",
      " #   Column           Non-Null Count  Dtype  \n",
      "---  ------           --------------  -----  \n",
      " 0   name             12781 non-null  object \n",
      " 1   platform         12781 non-null  object \n",
      " 2   year_of_release  12781 non-null  float64\n",
      " 3   genre            12781 non-null  object \n",
      " 4   na_sales         12781 non-null  float64\n",
      " 5   eu_sales         12781 non-null  float64\n",
      " 6   jp_sales         12781 non-null  float64\n",
      " 7   other_sales      12781 non-null  float64\n",
      " 8   critic_score     12781 non-null  float64\n",
      " 9   user_score       12781 non-null  float64\n",
      " 10  rating           12781 non-null  object \n",
      "dtypes: float64(7), object(4)\n",
      "memory usage: 1.2+ MB\n"
     ]
    }
   ],
   "source": [
    "# Сохраняем нужный срез в новом датафрейме\n",
    "df_actual = games[(games['year_of_release'] >= 2000) & (games['year_of_release'] <= 2013)].copy()\n",
    "df_actual.info()"
   ]
  },
  {
   "cell_type": "code",
   "execution_count": 47,
   "id": "038609d6-9276-41fc-9fda-914b08a2500c",
   "metadata": {},
   "outputs": [
    {
     "data": {
      "text/html": [
       "<div>\n",
       "<style scoped>\n",
       "    .dataframe tbody tr th:only-of-type {\n",
       "        vertical-align: middle;\n",
       "    }\n",
       "\n",
       "    .dataframe tbody tr th {\n",
       "        vertical-align: top;\n",
       "    }\n",
       "\n",
       "    .dataframe thead th {\n",
       "        text-align: right;\n",
       "    }\n",
       "</style>\n",
       "<table border=\"1\" class=\"dataframe\">\n",
       "  <thead>\n",
       "    <tr style=\"text-align: right;\">\n",
       "      <th></th>\n",
       "      <th>name</th>\n",
       "      <th>platform</th>\n",
       "      <th>year_of_release</th>\n",
       "      <th>genre</th>\n",
       "      <th>na_sales</th>\n",
       "      <th>eu_sales</th>\n",
       "      <th>jp_sales</th>\n",
       "      <th>other_sales</th>\n",
       "      <th>critic_score</th>\n",
       "      <th>user_score</th>\n",
       "      <th>rating</th>\n",
       "    </tr>\n",
       "  </thead>\n",
       "  <tbody>\n",
       "    <tr>\n",
       "      <th>0</th>\n",
       "      <td>wii sports</td>\n",
       "      <td>Wii</td>\n",
       "      <td>2006.0</td>\n",
       "      <td>sports</td>\n",
       "      <td>41.36</td>\n",
       "      <td>28.96</td>\n",
       "      <td>3.77</td>\n",
       "      <td>8.45</td>\n",
       "      <td>76.0</td>\n",
       "      <td>8.0</td>\n",
       "      <td>E</td>\n",
       "    </tr>\n",
       "    <tr>\n",
       "      <th>2</th>\n",
       "      <td>mario kart wii</td>\n",
       "      <td>Wii</td>\n",
       "      <td>2008.0</td>\n",
       "      <td>racing</td>\n",
       "      <td>15.68</td>\n",
       "      <td>12.76</td>\n",
       "      <td>3.79</td>\n",
       "      <td>3.29</td>\n",
       "      <td>82.0</td>\n",
       "      <td>8.3</td>\n",
       "      <td>E</td>\n",
       "    </tr>\n",
       "    <tr>\n",
       "      <th>3</th>\n",
       "      <td>wii sports resort</td>\n",
       "      <td>Wii</td>\n",
       "      <td>2009.0</td>\n",
       "      <td>sports</td>\n",
       "      <td>15.61</td>\n",
       "      <td>10.93</td>\n",
       "      <td>3.28</td>\n",
       "      <td>2.95</td>\n",
       "      <td>80.0</td>\n",
       "      <td>8.0</td>\n",
       "      <td>E</td>\n",
       "    </tr>\n",
       "    <tr>\n",
       "      <th>6</th>\n",
       "      <td>new super mario bros.</td>\n",
       "      <td>DS</td>\n",
       "      <td>2006.0</td>\n",
       "      <td>platform</td>\n",
       "      <td>11.28</td>\n",
       "      <td>9.14</td>\n",
       "      <td>6.50</td>\n",
       "      <td>2.88</td>\n",
       "      <td>89.0</td>\n",
       "      <td>8.5</td>\n",
       "      <td>E</td>\n",
       "    </tr>\n",
       "    <tr>\n",
       "      <th>7</th>\n",
       "      <td>wii play</td>\n",
       "      <td>Wii</td>\n",
       "      <td>2006.0</td>\n",
       "      <td>misc</td>\n",
       "      <td>13.96</td>\n",
       "      <td>9.18</td>\n",
       "      <td>2.93</td>\n",
       "      <td>2.84</td>\n",
       "      <td>58.0</td>\n",
       "      <td>6.6</td>\n",
       "      <td>E</td>\n",
       "    </tr>\n",
       "  </tbody>\n",
       "</table>\n",
       "</div>"
      ],
      "text/plain": [
       "                    name platform  year_of_release     genre  na_sales  \\\n",
       "0             wii sports      Wii           2006.0    sports     41.36   \n",
       "2         mario kart wii      Wii           2008.0    racing     15.68   \n",
       "3      wii sports resort      Wii           2009.0    sports     15.61   \n",
       "6  new super mario bros.       DS           2006.0  platform     11.28   \n",
       "7               wii play      Wii           2006.0      misc     13.96   \n",
       "\n",
       "   eu_sales  jp_sales  other_sales  critic_score  user_score rating  \n",
       "0     28.96      3.77         8.45          76.0         8.0      E  \n",
       "2     12.76      3.79         3.29          82.0         8.3      E  \n",
       "3     10.93      3.28         2.95          80.0         8.0      E  \n",
       "6      9.14      6.50         2.88          89.0         8.5      E  \n",
       "7      9.18      2.93         2.84          58.0         6.6      E  "
      ]
     },
     "execution_count": 47,
     "metadata": {},
     "output_type": "execute_result"
    }
   ],
   "source": [
    "df_actual.head()"
   ]
  },
  {
   "cell_type": "markdown",
   "id": "1852ea0f-fa7a-42b6-b086-84cd317ec523",
   "metadata": {},
   "source": [
    "## Категоризация данных\n"
   ]
  },
  {
   "cell_type": "markdown",
   "id": "8dbabc0b-f645-42e8-803c-efe1cb54d777",
   "metadata": {},
   "source": [
    "Тут нам нужно создать категории по оценке критиков и игроков:"
   ]
  },
  {
   "cell_type": "code",
   "execution_count": 50,
   "id": "186bf9f8-8315-4177-9bbf-c41fa64224ce",
   "metadata": {},
   "outputs": [
    {
     "data": {
      "text/html": [
       "<div>\n",
       "<style scoped>\n",
       "    .dataframe tbody tr th:only-of-type {\n",
       "        vertical-align: middle;\n",
       "    }\n",
       "\n",
       "    .dataframe tbody tr th {\n",
       "        vertical-align: top;\n",
       "    }\n",
       "\n",
       "    .dataframe thead th {\n",
       "        text-align: right;\n",
       "    }\n",
       "</style>\n",
       "<table border=\"1\" class=\"dataframe\">\n",
       "  <thead>\n",
       "    <tr style=\"text-align: right;\">\n",
       "      <th></th>\n",
       "      <th>name</th>\n",
       "      <th>platform</th>\n",
       "      <th>year_of_release</th>\n",
       "      <th>genre</th>\n",
       "      <th>na_sales</th>\n",
       "      <th>eu_sales</th>\n",
       "      <th>jp_sales</th>\n",
       "      <th>other_sales</th>\n",
       "      <th>critic_score</th>\n",
       "      <th>user_score</th>\n",
       "      <th>rating</th>\n",
       "      <th>critic_rate_category</th>\n",
       "      <th>user_rate_category</th>\n",
       "    </tr>\n",
       "  </thead>\n",
       "  <tbody>\n",
       "    <tr>\n",
       "      <th>0</th>\n",
       "      <td>wii sports</td>\n",
       "      <td>Wii</td>\n",
       "      <td>2006.0</td>\n",
       "      <td>sports</td>\n",
       "      <td>41.36</td>\n",
       "      <td>28.96</td>\n",
       "      <td>3.77</td>\n",
       "      <td>8.45</td>\n",
       "      <td>76.0</td>\n",
       "      <td>8.0</td>\n",
       "      <td>E</td>\n",
       "      <td>средняя оценка</td>\n",
       "      <td>высокая оценка</td>\n",
       "    </tr>\n",
       "    <tr>\n",
       "      <th>2</th>\n",
       "      <td>mario kart wii</td>\n",
       "      <td>Wii</td>\n",
       "      <td>2008.0</td>\n",
       "      <td>racing</td>\n",
       "      <td>15.68</td>\n",
       "      <td>12.76</td>\n",
       "      <td>3.79</td>\n",
       "      <td>3.29</td>\n",
       "      <td>82.0</td>\n",
       "      <td>8.3</td>\n",
       "      <td>E</td>\n",
       "      <td>высокая оценка</td>\n",
       "      <td>высокая оценка</td>\n",
       "    </tr>\n",
       "    <tr>\n",
       "      <th>3</th>\n",
       "      <td>wii sports resort</td>\n",
       "      <td>Wii</td>\n",
       "      <td>2009.0</td>\n",
       "      <td>sports</td>\n",
       "      <td>15.61</td>\n",
       "      <td>10.93</td>\n",
       "      <td>3.28</td>\n",
       "      <td>2.95</td>\n",
       "      <td>80.0</td>\n",
       "      <td>8.0</td>\n",
       "      <td>E</td>\n",
       "      <td>высокая оценка</td>\n",
       "      <td>высокая оценка</td>\n",
       "    </tr>\n",
       "    <tr>\n",
       "      <th>6</th>\n",
       "      <td>new super mario bros.</td>\n",
       "      <td>DS</td>\n",
       "      <td>2006.0</td>\n",
       "      <td>platform</td>\n",
       "      <td>11.28</td>\n",
       "      <td>9.14</td>\n",
       "      <td>6.50</td>\n",
       "      <td>2.88</td>\n",
       "      <td>89.0</td>\n",
       "      <td>8.5</td>\n",
       "      <td>E</td>\n",
       "      <td>высокая оценка</td>\n",
       "      <td>высокая оценка</td>\n",
       "    </tr>\n",
       "    <tr>\n",
       "      <th>7</th>\n",
       "      <td>wii play</td>\n",
       "      <td>Wii</td>\n",
       "      <td>2006.0</td>\n",
       "      <td>misc</td>\n",
       "      <td>13.96</td>\n",
       "      <td>9.18</td>\n",
       "      <td>2.93</td>\n",
       "      <td>2.84</td>\n",
       "      <td>58.0</td>\n",
       "      <td>6.6</td>\n",
       "      <td>E</td>\n",
       "      <td>средняя оценка</td>\n",
       "      <td>средняя оценка</td>\n",
       "    </tr>\n",
       "  </tbody>\n",
       "</table>\n",
       "</div>"
      ],
      "text/plain": [
       "                    name platform  year_of_release     genre  na_sales  \\\n",
       "0             wii sports      Wii           2006.0    sports     41.36   \n",
       "2         mario kart wii      Wii           2008.0    racing     15.68   \n",
       "3      wii sports resort      Wii           2009.0    sports     15.61   \n",
       "6  new super mario bros.       DS           2006.0  platform     11.28   \n",
       "7               wii play      Wii           2006.0      misc     13.96   \n",
       "\n",
       "   eu_sales  jp_sales  other_sales  critic_score  user_score rating  \\\n",
       "0     28.96      3.77         8.45          76.0         8.0      E   \n",
       "2     12.76      3.79         3.29          82.0         8.3      E   \n",
       "3     10.93      3.28         2.95          80.0         8.0      E   \n",
       "6      9.14      6.50         2.88          89.0         8.5      E   \n",
       "7      9.18      2.93         2.84          58.0         6.6      E   \n",
       "\n",
       "  critic_rate_category user_rate_category  \n",
       "0       средняя оценка     высокая оценка  \n",
       "2       высокая оценка     высокая оценка  \n",
       "3       высокая оценка     высокая оценка  \n",
       "6       высокая оценка     высокая оценка  \n",
       "7       средняя оценка     средняя оценка  "
      ]
     },
     "execution_count": 50,
     "metadata": {},
     "output_type": "execute_result"
    }
   ],
   "source": [
    "# Разделим игры на категории, в зависимости от оценки игроков и критиков\n",
    "df_actual.loc[:, 'critic_rate_category'] = pd.cut(\n",
    "    df_actual['critic_score'], \n",
    "    bins=[0, 30, 80, 100], \n",
    "    labels=['низкая оценка', 'средняя оценка', 'высокая оценка'], \n",
    "    right=False, \n",
    "    include_lowest=True\n",
    ")\n",
    "\n",
    "df_actual.loc[:, 'user_rate_category'] = pd.cut(\n",
    "    df_actual['user_score'], \n",
    "    bins=[0, 3, 8, 10], \n",
    "    labels=['низкая оценка', 'средняя оценка', 'высокая оценка'], \n",
    "    right=False, \n",
    "    include_lowest=True\n",
    ")\n",
    "\n",
    "df_actual.head()"
   ]
  },
  {
   "cell_type": "markdown",
   "id": "ac328c25-7da3-4caf-9b18-29f99f2144b7",
   "metadata": {},
   "source": [
    "Найдем топ-7 платформ по количеству игр, выпущенных за весь актуальный период:"
   ]
  },
  {
   "cell_type": "code",
   "execution_count": 52,
   "id": "952e7b82-fea3-4e90-bc6c-20aa68ad37b8",
   "metadata": {},
   "outputs": [
    {
     "data": {
      "text/plain": [
       "platform\n",
       "PS2     2127\n",
       "DS      2120\n",
       "Wii     1275\n",
       "PSP     1180\n",
       "X360    1121\n",
       "PS3     1087\n",
       "GBA      811\n",
       "Name: name, dtype: int64"
      ]
     },
     "execution_count": 52,
     "metadata": {},
     "output_type": "execute_result"
    }
   ],
   "source": [
    "top_platforms = df_actual.groupby('platform')['name'].count()\n",
    "top_platforms_sorted = top_platforms.sort_values(ascending=False)\n",
    "top_platforms_sorted.head(7)"
   ]
  },
  {
   "cell_type": "markdown",
   "id": "8bcce905-9f6c-4fcf-9e42-8c559e8ad5e2",
   "metadata": {},
   "source": [
    "## Основной вывод"
   ]
  },
  {
   "cell_type": "markdown",
   "id": "d122bac4-db76-4ff4-adee-f55a1810382a",
   "metadata": {},
   "source": [
    "В процессе работы с данными были проведены несколько шагов по очистке и подготовке информации для анализа. Мы отобрали данные за период с 2000 по 2013 год, чтобы сосредоточиться на продажах игр в начале XXI века. После этого были добавлены новые столбцы, включая категорию оценок критиков и пользователей, разделённую на три группы: \"низкая оценка\", \"средняя оценка\" и \"высокая оценка\", на основе значений столбца critic_score и user_score соответственно. Все пропуски в данных были обработаны, включая замену пропусков в оценках на -1, а также заполнение пропусков в продажах по регионам на среднее значение по платформе и году выпуска.\n",
    "\n",
    "Были также выполнены агрегированные вычисления, например, подсчёт количества игр на разных платформах с последующей сортировкой данных по этому показателю. Все эти изменения позволили получить более структурированные и чистые данные, готовые для дальнейшего анализа, включая выявление тенденций по платформам и жанрам игр.\n",
    "\n",
    "В ходе исследования был проведён анализ популярных платформ. Топ-7 платформ по количеству игр в нашем датасете:\n",
    "\n",
    "1. PS2 — 2127 игр\n",
    "2. DS — 2120 игр\n",
    "3. Wii — 1275 игр\n",
    "4. PSP — 1180 игр\n",
    "5. X360 — 1121 игр\n",
    "6. PS3 — 1087 игр\n",
    "7. GBA — 811 игр\n",
    "\n",
    "Топ-7 платформ по количеству игр показывают доминирование консолей PlayStation (PS2, PSP, PS3) и Nintendo (DS, Wii, GBA) в анализируемый период. Xbox 360 также занял значительное место среди популярных платформ. Это подтверждает, что именно эти игровые системы были наиболее востребованы среди разработчиков и игроков в 2000–2013 годах."
   ]
  },
  {
   "cell_type": "code",
   "execution_count": null,
   "id": "db570827-bc91-4164-8358-513af0829753",
   "metadata": {},
   "outputs": [],
   "source": []
  }
 ],
 "metadata": {
  "ExecuteTimeLog": [
   {
    "duration": 414,
    "start_time": "2025-02-01T09:40:47.051Z"
   },
   {
    "duration": 109,
    "start_time": "2025-02-01T09:40:47.467Z"
   },
   {
    "duration": 19,
    "start_time": "2025-02-01T09:40:47.578Z"
   },
   {
    "duration": 16,
    "start_time": "2025-02-01T09:40:47.598Z"
   },
   {
    "duration": 2,
    "start_time": "2025-02-01T09:40:47.617Z"
   },
   {
    "duration": 6,
    "start_time": "2025-02-01T09:40:47.620Z"
   },
   {
    "duration": 31,
    "start_time": "2025-02-01T09:40:47.627Z"
   },
   {
    "duration": 4,
    "start_time": "2025-02-01T09:40:47.659Z"
   },
   {
    "duration": 23,
    "start_time": "2025-02-01T09:40:47.665Z"
   },
   {
    "duration": 17,
    "start_time": "2025-02-01T09:40:47.689Z"
   },
   {
    "duration": 362,
    "start_time": "2025-02-01T09:40:47.708Z"
   },
   {
    "duration": 8,
    "start_time": "2025-02-01T09:40:48.071Z"
   },
   {
    "duration": 16,
    "start_time": "2025-02-01T09:40:48.081Z"
   },
   {
    "duration": 13,
    "start_time": "2025-02-01T09:40:48.099Z"
   },
   {
    "duration": 12,
    "start_time": "2025-02-01T09:40:48.114Z"
   },
   {
    "duration": 15,
    "start_time": "2025-02-01T09:40:48.157Z"
   },
   {
    "duration": 13,
    "start_time": "2025-02-01T09:40:48.173Z"
   },
   {
    "duration": 4,
    "start_time": "2025-02-01T09:40:48.187Z"
   },
   {
    "duration": 13,
    "start_time": "2025-02-01T09:40:48.192Z"
   },
   {
    "duration": 13,
    "start_time": "2025-02-01T09:40:48.207Z"
   },
   {
    "duration": 57,
    "start_time": "2025-02-01T09:40:48.221Z"
   },
   {
    "duration": 7,
    "start_time": "2025-02-01T09:40:48.280Z"
   },
   {
    "duration": 4977,
    "start_time": "2025-02-01T10:00:21.092Z"
   },
   {
    "duration": 46,
    "start_time": "2025-02-01T10:05:23.943Z"
   },
   {
    "duration": 382,
    "start_time": "2025-02-02T11:50:52.755Z"
   },
   {
    "duration": 100,
    "start_time": "2025-02-02T11:50:53.139Z"
   },
   {
    "duration": 20,
    "start_time": "2025-02-02T11:50:53.241Z"
   },
   {
    "duration": 18,
    "start_time": "2025-02-02T11:50:53.263Z"
   },
   {
    "duration": 3,
    "start_time": "2025-02-02T11:50:53.283Z"
   },
   {
    "duration": 7,
    "start_time": "2025-02-02T11:50:53.301Z"
   },
   {
    "duration": 6,
    "start_time": "2025-02-02T11:50:53.310Z"
   },
   {
    "duration": 31,
    "start_time": "2025-02-02T11:50:53.317Z"
   },
   {
    "duration": 21,
    "start_time": "2025-02-02T11:50:53.349Z"
   },
   {
    "duration": 390,
    "start_time": "2025-02-02T11:50:53.372Z"
   },
   {
    "duration": 8,
    "start_time": "2025-02-02T11:50:53.764Z"
   },
   {
    "duration": 36,
    "start_time": "2025-02-02T11:50:53.774Z"
   },
   {
    "duration": 14,
    "start_time": "2025-02-02T11:50:53.812Z"
   },
   {
    "duration": 14,
    "start_time": "2025-02-02T11:50:53.828Z"
   },
   {
    "duration": 16,
    "start_time": "2025-02-02T11:50:53.844Z"
   },
   {
    "duration": 47,
    "start_time": "2025-02-02T11:50:53.861Z"
   },
   {
    "duration": 4,
    "start_time": "2025-02-02T11:50:53.910Z"
   },
   {
    "duration": 21,
    "start_time": "2025-02-02T11:50:53.916Z"
   },
   {
    "duration": 15,
    "start_time": "2025-02-02T11:50:53.938Z"
   },
   {
    "duration": 48,
    "start_time": "2025-02-02T11:50:53.955Z"
   },
   {
    "duration": 9,
    "start_time": "2025-02-02T11:50:54.004Z"
   },
   {
    "duration": 407,
    "start_time": "2025-02-02T11:53:02.424Z"
   },
   {
    "duration": 83,
    "start_time": "2025-02-02T11:53:02.832Z"
   },
   {
    "duration": 20,
    "start_time": "2025-02-02T11:53:02.916Z"
   },
   {
    "duration": 18,
    "start_time": "2025-02-02T11:53:02.938Z"
   },
   {
    "duration": 3,
    "start_time": "2025-02-02T11:53:02.957Z"
   },
   {
    "duration": 26,
    "start_time": "2025-02-02T11:53:02.962Z"
   },
   {
    "duration": 17,
    "start_time": "2025-02-02T11:53:02.990Z"
   },
   {
    "duration": 32,
    "start_time": "2025-02-02T11:53:03.009Z"
   },
   {
    "duration": 20,
    "start_time": "2025-02-02T11:53:03.043Z"
   },
   {
    "duration": 364,
    "start_time": "2025-02-02T11:53:03.065Z"
   },
   {
    "duration": 7,
    "start_time": "2025-02-02T11:53:03.431Z"
   },
   {
    "duration": 25,
    "start_time": "2025-02-02T11:53:03.440Z"
   },
   {
    "duration": 23,
    "start_time": "2025-02-02T11:53:03.466Z"
   },
   {
    "duration": 15,
    "start_time": "2025-02-02T11:53:03.501Z"
   },
   {
    "duration": 25,
    "start_time": "2025-02-02T11:53:03.518Z"
   },
   {
    "duration": 14,
    "start_time": "2025-02-02T11:53:03.544Z"
   },
   {
    "duration": 4,
    "start_time": "2025-02-02T11:53:03.559Z"
   },
   {
    "duration": 31,
    "start_time": "2025-02-02T11:53:03.565Z"
   },
   {
    "duration": 15,
    "start_time": "2025-02-02T11:53:03.602Z"
   },
   {
    "duration": 27,
    "start_time": "2025-02-02T11:53:03.619Z"
   },
   {
    "duration": 9,
    "start_time": "2025-02-02T11:53:03.647Z"
   },
   {
    "duration": 43,
    "start_time": "2025-02-02T12:00:46.906Z"
   }
  ],
  "kernelspec": {
   "display_name": "Python [conda env:base] *",
   "language": "python",
   "name": "conda-base-py"
  },
  "language_info": {
   "codemirror_mode": {
    "name": "ipython",
    "version": 3
   },
   "file_extension": ".py",
   "mimetype": "text/x-python",
   "name": "python",
   "nbconvert_exporter": "python",
   "pygments_lexer": "ipython3",
   "version": "3.12.7"
  },
  "toc": {
   "base_numbering": 1,
   "nav_menu": {},
   "number_sections": true,
   "sideBar": true,
   "skip_h1_title": true,
   "title_cell": "Table of Contents",
   "title_sidebar": "Contents",
   "toc_cell": false,
   "toc_position": {
    "height": "calc(100% - 180px)",
    "left": "10px",
    "top": "150px",
    "width": "402.352936px"
   },
   "toc_section_display": true,
   "toc_window_display": true
  }
 },
 "nbformat": 4,
 "nbformat_minor": 5
}
